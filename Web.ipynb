{
 "cells": [
  {
   "cell_type": "markdown",
   "metadata": {
    "collapsed": true
   },
   "source": [
    "# -Day 1- 搭建开发环境"
   ]
  },
  {
   "cell_type": "markdown",
   "metadata": {},
   "source": [
    " 转链接https://www.liaoxuefeng.com/wiki/0014316089557264a6b348958f449949df42a6d3a2e542c000/001432170937506ecfb2f6adf8e4757939732f3e32b781c000"
   ]
  },
  {
   "cell_type": "markdown",
   "metadata": {},
   "source": [
    "# -Day 2- 编写Web App骨架"
   ]
  },
  {
   "cell_type": "markdown",
   "metadata": {},
   "source": [
    "用aiohttp写一个基本的app.py"
   ]
  },
  {
   "cell_type": "code",
   "execution_count": 1,
   "metadata": {
    "collapsed": true
   },
   "outputs": [],
   "source": [
    "import logging\n",
    "logging.basicConfig(level=logging.INFO)"
   ]
  },
  {
   "cell_type": "code",
   "execution_count": 2,
   "metadata": {
    "collapsed": false
   },
   "outputs": [],
   "source": [
    "import asyncio, os, json, time\n",
    "from datetime import datetime\n",
    "\n",
    "from aiohttp import web"
   ]
  },
  {
   "cell_type": "code",
   "execution_count": 3,
   "metadata": {
    "collapsed": true
   },
   "outputs": [],
   "source": [
    "def index(request):\n",
    "    return web.Response(body=b'<h1>Awesome</h1>')\n",
    "\n",
    "@asyncio.coroutine\n",
    "def init(loop):\n",
    "    app = web.Application(loop=loop)\n",
    "    app.router.add_route('Get', '/', index)\n",
    "    srv = yield from loop.create_server(app.make_handler(), '127.0.0.1', 9000)\n",
    "    logging.info('server started at http://127.0.0.1:9000...')\n",
    "    return srv"
   ]
  },
  {
   "cell_type": "code",
   "execution_count": null,
   "metadata": {
    "collapsed": false
   },
   "outputs": [
    {
     "name": "stderr",
     "output_type": "stream",
     "text": [
      "/home/dell/anaconda2/envs/py36/lib/python3.6/site-packages/ipykernel_launcher.py:6: DeprecationWarning: loop argument is deprecated\n",
      "  \n",
      "/home/dell/anaconda2/envs/py36/lib/python3.6/site-packages/ipykernel_launcher.py:8: DeprecationWarning: Application.make_handler(...) is deprecated, use AppRunner API instead\n",
      "  \n",
      "INFO:root:server started at http://127.0.0.1:9000...\n",
      "INFO:aiohttp.access:127.0.0.1 [18/Dec/2018:12:02:08 +0000] \"GET / HTTP/1.1\" 200 166 \"-\" \"Mozilla/5.0 (X11; Ubuntu; Linux x86_64; rv:64.0) Gecko/20100101 Firefox/64.0\"\n",
      "INFO:aiohttp.access:127.0.0.1 [18/Dec/2018:12:02:26 +0000] \"GET / HTTP/1.1\" 200 166 \"-\" \"Mozilla/5.0 (X11; Ubuntu; Linux x86_64; rv:64.0) Gecko/20100101 Firefox/64.0\"\n",
      "INFO:aiohttp.access:127.0.0.1 [18/Dec/2018:12:04:02 +0000] \"GET / HTTP/1.1\" 200 166 \"-\" \"Mozilla/5.0 (X11; Ubuntu; Linux x86_64; rv:64.0) Gecko/20100101 Firefox/64.0\"\n"
     ]
    }
   ],
   "source": [
    "loop = asyncio.get_event_loop()\n",
    "loop.run_until_complete(init(loop))\n",
    "loop.run_forever()"
   ]
  },
  {
   "cell_type": "markdown",
   "metadata": {},
   "source": [
    "# -Day 3-编写ORM"
   ]
  },
  {
   "cell_type": "markdown",
   "metadata": {},
   "source": [
    "Object Relational Mapping 对象关系映射"
   ]
  },
  {
   "cell_type": "markdown",
   "metadata": {},
   "source": [
    "## 创建连接池"
   ]
  },
  {
   "cell_type": "code",
   "execution_count": 4,
   "metadata": {
    "collapsed": false
   },
   "outputs": [],
   "source": [
    "import asyncio, os, json, time\n",
    "\n",
    "@asyncio.coroutine\n",
    "def create_pool(loop, **kw):\n",
    "    logging.info('create database connection pool...')\n",
    "    global __pool\n",
    "    __pool = yield from aiomysql.create_pool(\n",
    "        host=kw.get('host', 'localhost'),\n",
    "        port=kw.get('port', 3306),\n",
    "        user=kw['user'],\n",
    "        password=kw['password'],\n",
    "        db=kw['db'],\n",
    "        charset=kw.get('charset','utf8'),\n",
    "        autocommit=kw.get('autocommit', True),\n",
    "        maxsize=kw.get('maxsize', 10),\n",
    "        minsize=ke.get('minsize', 1),\n",
    "        loop=loop\n",
    "    )"
   ]
  },
  {
   "cell_type": "markdown",
   "metadata": {},
   "source": [
    "## Select\n",
    "要执行SELECT语句，我们用select函数执行，需要传入SQL语句和SQL参数"
   ]
  },
  {
   "cell_type": "code",
   "execution_count": 5,
   "metadata": {
    "collapsed": true
   },
   "outputs": [],
   "source": [
    "@asyncio.coroutine\n",
    "def select(sql, args, size=None):\n",
    "    log(sql, args)\n",
    "    global __pool\n",
    "    with (yield from __pool) as conn:\n",
    "        cur = yield from conn.cursor(aiomysql.DictCursor)\n",
    "        #将SQL语句的占位符'?'替换为MySql的占位符'%s'\n",
    "        yield from cur.execute(sql.replace('?', '%s'), args or ())\n",
    "        if size:\n",
    "            #通过fetchmany()获取最多指定数量的记录\n",
    "            rs = yield from cur.fetchmany(size)\n",
    "        else:\n",
    "            #否则，通过fetall()获取所有记录\n",
    "            rs = yield from cur.fetchall()\n",
    "        yield from cur.close()\n",
    "        logging.info('rows returned: %s' % len(rs))\n",
    "        return rs"
   ]
  },
  {
   "cell_type": "markdown",
   "metadata": {},
   "source": [
    "## Insert, Update, Delete\n",
    "要执行INSERT、UPDATE、DELETE语句，可以定义一个通用的execute()函数，因为这3种SQL的执行都需要相同的参数，以及返回一个整数表示影响的行数"
   ]
  },
  {
   "cell_type": "code",
   "execution_count": 6,
   "metadata": {
    "collapsed": true
   },
   "outputs": [],
   "source": [
    "@asyncio.coroutine\n",
    "def execute(sql, args):\n",
    "    log(sql)\n",
    "    with (yield from __pool) as conn:\n",
    "        try:\n",
    "            cur = yield from conn.cursor()\n",
    "            yield from cur.execute(sql.replace('?', '%s'), args)\n",
    "            affected = cur.rowcount\n",
    "            yield from cur.close()\n",
    "        except BaseException as e:\n",
    "            raise\n",
    "        return affected"
   ]
  },
  {
   "cell_type": "markdown",
   "metadata": {},
   "source": [
    "## 定义Model\n",
    "首先定义所有ORM映射的基类Model"
   ]
  },
  {
   "cell_type": "code",
   "execution_count": 11,
   "metadata": {
    "collapsed": false
   },
   "outputs": [],
   "source": [
    "def create_args_string(num):\n",
    "    L = []\n",
    "    for n in range(num):\n",
    "        L.append('?')\n",
    "    return ', '.join(L)\n",
    "\n",
    "# Field 和各种Field子类\n",
    "class Field(object):\n",
    "\n",
    "    def __init__(self, name, column_type, primary_key, default):\n",
    "        self.name = name\n",
    "        self.column_type = column_type\n",
    "        self.primary_key = primary_key\n",
    "        self.default = default\n",
    "\n",
    "    def __str__(self):\n",
    "        return '<%s, %s:%s>' % (self.__class__.__name__, self.column_type, self.name)\n",
    "\n",
    "class StringField(Field):\n",
    "\n",
    "    def __init__(self, name=None, primary_key=False, default=None, ddl='varchar(100)'):\n",
    "        super().__init__(name, ddl, primary_key, default)\n",
    "\n",
    "class BooleanField(Field):\n",
    "\n",
    "    def __init__(self, name=None, default=False):\n",
    "        super().__init__(name, 'boolean', False, default)\n",
    "\n",
    "class IntegerField(Field):\n",
    "\n",
    "    def __init__(self, name=None, primary_key=False, default=0):\n",
    "        super().__init__(name, 'bigint', primary_key, default)\n",
    "\n",
    "class FloatField(Field):\n",
    "\n",
    "    def __init__(self, name=None, primary_key=False, default=0.0):\n",
    "        super().__init__(name, 'real', primary_key, default)\n",
    "\n",
    "class TextField(Field):\n",
    "\n",
    "    def __init__(self, name=None, default=None):\n",
    "        super().__init__(name, 'text', False, default)\n",
    "\n",
    "  \n"
   ]
  },
  {
   "cell_type": "code",
   "execution_count": 14,
   "metadata": {
    "collapsed": false
   },
   "outputs": [],
   "source": [
    "class ModelMetaclass(type):\n",
    "    def __new__(cls, name, bases, attrs):\n",
    "        #排除Model类本身\n",
    "        if name == 'Model':\n",
    "            return type.__new__(cls, name, bases, attrs)\n",
    "        #获取table名称\n",
    "        tableName = attrs.get('__table__', None) or name\n",
    "        logging.info('found model: %s (table: %s)' % (name, tableName))\n",
    "        #获取所有的Field和主键名\n",
    "        mappings = dict()\n",
    "        fields = []\n",
    "        primaryKey = None\n",
    "        for k, v in attrs.items():\n",
    "            if isinstance(v, Field):\n",
    "                logging.info(' found mapping: %s ==> %s' % (k, v))\n",
    "                mappings[k] = v\n",
    "                if v.primary_key:\n",
    "                    #找到主键:\n",
    "                    if primaryKey:\n",
    "                        raise RuntimeError('Duplicate primary key for field: %s' % k)\n",
    "                    primaryKey = k\n",
    "                else:\n",
    "                    fields.append(k)\n",
    "        if not primaryKey:\n",
    "            raise RuntimeError('Primary key not found.')\n",
    "        for k in mappings.keys():\n",
    "            attrs.pop(k)\n",
    "        escaped_fields = list(map(lambda f: \"'%s'\" % f, fields))\n",
    "        attrs['__mappings__'] = mappings                  #保存属性和列的映射关系\n",
    "        attrs['__table__'] = tableName\n",
    "        attrs['__primary_key__'] = primaryKey             #主键属性名\n",
    "        attrs['__fields__'] = fields                      #除主键外的属性名\n",
    "        # 构造默认的SELECT, INSERT, UPDATE 和DELETE语句：\n",
    "        attrs['__select__'] = \"select '%s', %s from '%s'\" % (primaryKey, ', '.join(escaped_fields), tableName)\n",
    "        attrs['__insert__'] = \"insert into '%s' (%s, '%s') values (%s)\" \\\n",
    "                               % (tableName, ', '.join(escaped_fields), primaryKey, create_args_string(len(escaped_fields) + 1))\n",
    "        attrs['__update__'] = \"update '%s' set %s where '%s' = ?\" \\\n",
    "                               % (tableName, ', '.join(map(lambda f: \"'%s'=?\" % (mappings.get(f).name or f), fields)), primaryKey)\n",
    "        attrs['__delete__'] = \"delete from '%s' where '%s'=?\" % (tableName, primaryKey)\n",
    "        return type.__new__(cls, name, bases, attrs)\n",
    "            \n",
    "\n",
    "class Model(dict, metaclass=ModelMetaclass):\n",
    "    def __init__(self, **kw):\n",
    "        super(Model, self).__init__(**kw)\n",
    "\n",
    "    def __getattr__(self, key):\n",
    "        try:\n",
    "            return self[key]\n",
    "        except KeyError:\n",
    "            raise AttributeError(r\"'Model' object has no attribute '%s'\" % key)\n",
    "\n",
    "    def __setattr__(self, key, value):\n",
    "        self[key] = value\n",
    "\n",
    "    def getValue(self, key):\n",
    "        return getattr(self, key, None)\n",
    "\n",
    "    def getValueOrDefault(self, key):\n",
    "        value = getattr(self, key, None)\n",
    "        if value is None:\n",
    "            field = self.__mappings__[key]\n",
    "            if field.default is not None:\n",
    "                value = field.default() if callable(field.default) else field.default\n",
    "                logging.debug('using default value for %s: %s' % (key, str(value)))\n",
    "                setattr(self, key, value)\n",
    "        return value\n",
    "\n",
    "    @classmethod\n",
    "    async def findAll(cls, where=None, args=None, **kw):\n",
    "        ' find objects by where clause. '\n",
    "        sql = [cls.__select__]\n",
    "        if where:\n",
    "            sql.append('where')\n",
    "            sql.append(where)\n",
    "        if args is None:\n",
    "            args = []\n",
    "        orderBy = kw.get('orderBy', None)\n",
    "        if orderBy:\n",
    "            sql.append('order by')\n",
    "            sql.append(orderBy)\n",
    "        limit = kw.get('limit', None)\n",
    "        if limit is not None:\n",
    "            sql.append('limit')\n",
    "            if isinstance(limit, int):\n",
    "                sql.append('?')\n",
    "                args.append(limit)\n",
    "            elif isinstance(limit, tuple) and len(limit) == 2:\n",
    "                sql.append('?, ?')\n",
    "                args.extend(limit)\n",
    "            else:\n",
    "                raise ValueError('Invalid limit value: %s' % str(limit))\n",
    "        rs = await select(' '.join(sql), args)\n",
    "        return [cls(**r) for r in rs]\n",
    "\n",
    "    @classmethod\n",
    "    async def findNumber(cls, selectField, where=None, args=None):\n",
    "        ' find number by select and where. '\n",
    "        sql = ['select %s _num_ from `%s`' % (selectField, cls.__table__)]\n",
    "        if where:\n",
    "            sql.append('where')\n",
    "            sql.append(where)\n",
    "        rs = await select(' '.join(sql), args, 1)\n",
    "        if len(rs) == 0:\n",
    "            return None\n",
    "        return rs[0]['_num_']\n",
    "\n",
    "    @classmethod\n",
    "    async def find(cls, pk):\n",
    "        ' find object by primary key. '\n",
    "        rs = await select('%s where `%s`=?' % (cls.__select__, cls.__primary_key__), [pk], 1)\n",
    "        if len(rs) == 0:\n",
    "            return None\n",
    "        return cls(**rs[0])\n",
    "\n",
    "    async def save(self):\n",
    "        args = list(map(self.getValueOrDefault, self.__fields__))\n",
    "        args.append(self.getValueOrDefault(self.__primary_key__))\n",
    "        rows = await execute(self.__insert__, args)\n",
    "        if rows != 1:\n",
    "            logging.warn('failed to insert record: affected rows: %s' % rows)\n",
    "\n",
    "    async def update(self):\n",
    "        args = list(map(self.getValue, self.__fields__))\n",
    "        args.append(self.getValue(self.__primary_key__))\n",
    "        rows = await execute(self.__update__, args)\n",
    "        if rows != 1:\n",
    "            logging.warn('failed to update by primary key: affected rows: %s' % rows)\n",
    "\n",
    "    async def remove(self):\n",
    "        args = [self.getValue(self.__primary_key__)]\n",
    "        rows = await execute(self.__delete__, args)\n",
    "        if rows != 1:\n",
    "            logging.warn('failed to remove by primary key: affected rows: %s' % rows)\n",
    "            \n",
    "    async def insert(self):\n",
    "        args = list(map(self.getValue, self.__fields__))\n",
    "        args.append(self.getValue(self.__primary_key__))\n",
    "        rows = await execute(self.__insert__, args)\n",
    "        "
   ]
  },
  {
   "cell_type": "markdown",
   "metadata": {},
   "source": [
    "## ORM"
   ]
  },
  {
   "cell_type": "code",
   "execution_count": 15,
   "metadata": {
    "collapsed": false
   },
   "outputs": [
    {
     "name": "stderr",
     "output_type": "stream",
     "text": [
      "INFO:root:found model: User (table: users)\n",
      "INFO:root: found mapping: id ==> <IntegerField, bigint:None>\n",
      "INFO:root: found mapping: name ==> <StringField, varchar(100):None>\n"
     ]
    }
   ],
   "source": [
    "#from www.orm import Model, StringField, IntegerField\n",
    "\n",
    "class User(Model):\n",
    "    __table__ = 'users'\n",
    "    \n",
    "    id = IntegerField(primary_key=True)\n",
    "    name = StringField()"
   ]
  },
  {
   "cell_type": "code",
   "execution_count": 16,
   "metadata": {
    "collapsed": false
   },
   "outputs": [],
   "source": [
    "# 创建实例:\n",
    "user = User(id=123, name='Yuan')\n",
    "# 存入数据库\n",
    "user.save\n",
    "#查询所有User对象:\\\n",
    "users = User.findAll()"
   ]
  },
  {
   "cell_type": "markdown",
   "metadata": {
    "collapsed": true
   },
   "source": [
    "# -Day 4-编写Model\n"
   ]
  },
  {
   "cell_type": "markdown",
   "metadata": {},
   "source": [
    "## 用Model表示三个需要的表 \n",
    "有了ORM，我们就可以把Web App需要的3个表用Model表示出来"
   ]
  },
  {
   "cell_type": "code",
   "execution_count": null,
   "metadata": {
    "collapsed": true
   },
   "outputs": [],
   "source": [
    "import time, uuid\n",
    "\n",
    "from www.orm import Model, StringField, BooleanField, FloatField, TextField\n",
    "\n",
    "def next_id():\n",
    "    return '%015d%s000' % (int(time.time() * 1000), uuid.uuid4().hex)\n",
    "\n",
    "class User(Model):\n",
    "    __table__ = 'users'\n",
    "    \n",
    "    id = StringField(primary_key=True, default=next_id, ddl='varchar(50)')\n",
    "    email = StringField(ddl='varchar(50)')\n",
    "    passwd = StringField(ddl='varchar(50)')\n",
    "    admin = BooleanField()\n",
    "    name = StringField(ddl='varchar(50)')\n",
    "    image = StringField(ddl='varchar(500)')\n",
    "    created_at = FloatField(default=time.time)\n",
    "    \n",
    "class Blog(Model):\n",
    "    __table__ = 'blogs'\n",
    "    \n",
    "    id = StringField(primary_key=True, default=next_id, ddl='varchar(50)')\n",
    "    user_id = StringField(ddl='varchar(50)')\n",
    "    user_name = StringField(ddl='varchar(50)')\n",
    "    user_image = StringField(ddl='varchar(500)')\n",
    "    name = StringField(ddl='varchar(50)')\n",
    "    summary = StringField(ddl='varchar(200)')\n",
    "    content = TextField()\n",
    "    created_at = FloatField(default=time.time)\n",
    "    \n",
    "class Comment(Model):\n",
    "    __table__ = 'comments'\n",
    "    \n",
    "    id = StringField(primary_key=True, default=next_id, ddl='varchar(50)')\n",
    "    blog_id = StringField(ddl='varchar(50)')\n",
    "    user_id = StringField(ddl='varchar(50)')\n",
    "    user_name = StringField(ddl='varchar(50)')\n",
    "    user_image = StringField(ddl='varchar(500)')\n",
    "    content = TextField()\n",
    "    created_at = FloatField(default=time.time)\n",
    "    \n"
   ]
  },
  {
   "cell_type": "markdown",
   "metadata": {},
   "source": [
    "## 初始化数据库表\n",
    "如果表的数量很少，可以手写创建表的SQL脚本："
   ]
  },
  {
   "cell_type": "code",
   "execution_count": null,
   "metadata": {
    "collapsed": true
   },
   "outputs": [],
   "source": [
    "#-- schema.sql\n",
    "\n",
    "drop database if exists awesome;\n",
    "\n",
    "create database awesome;\n",
    "\n",
    "use awesome;\n",
    "\n",
    "grant select, insert, update, delete on awesome.* to 'www-data'@'localhost' identified by 'www-data';\n",
    "\n",
    "create table users(\n",
    "    'id' varchar(50) not null,\n",
    "    'email' varchar(50) not null,\n",
    "    'passwd' varchar(50) not null,\n",
    "    'admin' bool not null,\n",
    "    'name' varchar(50) not null,\n",
    "    'image' varchar(500) not null,\n",
    "    'created_at' real not null,\n",
    "    unique key 'idx_email' ('email'),\n",
    "    key 'idx_created_at' ('created_at'),\n",
    "    primary key ('id')\n",
    ")engine=innodb default charset=utf8;\n",
    "\n",
    "create table blogs(\n",
    "    'id' varchar(50) not null,\n",
    "    'user_id' varchar(50) not null,\n",
    "    'user_name' varchar(50) not null,\n",
    "    'user_image' varchar(500) not null,\n",
    "    'name' varchar(50) not null,\n",
    "    'summary' varchar(200) not null,\n",
    "    'content' mediumtext not null,\n",
    "    'created_at' real not null,\n",
    ")engine=innodb default charset=utf8;"
   ]
  },
  {
   "cell_type": "markdown",
   "metadata": {},
   "source": [
    "## 编写数据访问代码\n",
    "接下来，就可以真正开始编写代码操作对象了。比如，对于User对象，我们就可以做如下操作："
   ]
  },
  {
   "cell_type": "code",
   "execution_count": 1,
   "metadata": {
    "collapsed": false
   },
   "outputs": [
    {
     "name": "stdout",
     "output_type": "stream",
     "text": [
      "Test finished.\n"
     ]
    }
   ],
   "source": [
    "import asyncio\n",
    "import www.orm as orm\n",
    "from www.models import User, Blog, Comment\n",
    "\n",
    "async def test(loop):\n",
    "    await orm.create_pool(loop=loop, user='www-data', password='www-data', db='awesome')\n",
    "    \n",
    "    u = User(name='Test', email='test@example.com', passwd='1234567890', image='about:blank')\n",
    "    \n",
    "    await u.save()\n",
    "\n",
    "loop = asyncio.get_event_loop()\n",
    "loop.run_until_complete(test(loop))\n",
    "print('Test finished.')\n",
    "loop.close()\n",
    "    \n",
    "    "
   ]
  },
  {
   "cell_type": "markdown",
   "metadata": {},
   "source": [
    "# -Day 5-编写Web框架"
   ]
  },
  {
   "cell_type": "code",
   "execution_count": null,
   "metadata": {
    "collapsed": true
   },
   "outputs": [],
   "source": []
  }
 ],
 "metadata": {
  "kernelspec": {
   "display_name": "Python 3",
   "language": "python",
   "name": "python3"
  },
  "language_info": {
   "codemirror_mode": {
    "name": "ipython",
    "version": 3
   },
   "file_extension": ".py",
   "mimetype": "text/x-python",
   "name": "python",
   "nbconvert_exporter": "python",
   "pygments_lexer": "ipython3",
   "version": "3.6.2"
  },
  "toc": {
   "base_numbering": 1,
   "nav_menu": {},
   "number_sections": true,
   "sideBar": true,
   "skip_h1_title": false,
   "title_cell": "Table of Contents",
   "title_sidebar": "Contents",
   "toc_cell": false,
   "toc_position": {
    "height": "calc(100% - 180px)",
    "left": "10px",
    "top": "150px",
    "width": "175px"
   },
   "toc_section_display": true,
   "toc_window_display": true
  }
 },
 "nbformat": 4,
 "nbformat_minor": 2
}
