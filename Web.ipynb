{
 "cells": [
  {
   "cell_type": "markdown",
   "metadata": {
    "collapsed": true
   },
   "source": [
    "# -Day 1- 搭建开发环境"
   ]
  },
  {
   "cell_type": "markdown",
   "metadata": {},
   "source": [
    " 转链接https://www.liaoxuefeng.com/wiki/0014316089557264a6b348958f449949df42a6d3a2e542c000/001432170937506ecfb2f6adf8e4757939732f3e32b781c000"
   ]
  },
  {
   "cell_type": "markdown",
   "metadata": {},
   "source": [
    "# -Day 2- 编写Web App骨架"
   ]
  },
  {
   "cell_type": "markdown",
   "metadata": {},
   "source": [
    "用aiohttp写一个基本的app.py"
   ]
  },
  {
   "cell_type": "code",
   "execution_count": 2,
   "metadata": {
    "collapsed": true
   },
   "outputs": [],
   "source": [
    "import logging\n",
    "logging.basicConfig(level=logging.INFO)"
   ]
  },
  {
   "cell_type": "code",
   "execution_count": 3,
   "metadata": {
    "collapsed": false
   },
   "outputs": [],
   "source": [
    "import asyncio, os, json, time\n",
    "from datetime import datetime\n",
    "\n",
    "from aiohttp import web"
   ]
  },
  {
   "cell_type": "code",
   "execution_count": 4,
   "metadata": {
    "collapsed": true
   },
   "outputs": [],
   "source": [
    "def index(request):\n",
    "    return web.Response(body=b'<h1>Awesome</h1>')\n",
    "\n",
    "@asyncio.coroutine\n",
    "def init(loop):\n",
    "    app = web.Application(loop=loop)\n",
    "    app.router.add_route('Get', '/', index)\n",
    "    srv = yield from loop.create_server(app.make_handler(), '127.0.0.1', 9000)\n",
    "    logging.info('server started at http://127.0.0.1:9000...')\n",
    "    return srv"
   ]
  },
  {
   "cell_type": "code",
   "execution_count": null,
   "metadata": {
    "collapsed": false
   },
   "outputs": [
    {
     "name": "stderr",
     "output_type": "stream",
     "text": [
      "/home/dell/anaconda2/envs/py36/lib/python3.6/site-packages/ipykernel_launcher.py:6: DeprecationWarning: loop argument is deprecated\n",
      "  \n",
      "/home/dell/anaconda2/envs/py36/lib/python3.6/site-packages/ipykernel_launcher.py:8: DeprecationWarning: Application.make_handler(...) is deprecated, use AppRunner API instead\n",
      "  \n",
      "INFO:root:server started at http://127.0.0.1:9000...\n",
      "INFO:aiohttp.access:127.0.0.1 [18/Dec/2018:12:02:08 +0000] \"GET / HTTP/1.1\" 200 166 \"-\" \"Mozilla/5.0 (X11; Ubuntu; Linux x86_64; rv:64.0) Gecko/20100101 Firefox/64.0\"\n",
      "INFO:aiohttp.access:127.0.0.1 [18/Dec/2018:12:02:26 +0000] \"GET / HTTP/1.1\" 200 166 \"-\" \"Mozilla/5.0 (X11; Ubuntu; Linux x86_64; rv:64.0) Gecko/20100101 Firefox/64.0\"\n",
      "INFO:aiohttp.access:127.0.0.1 [18/Dec/2018:12:04:02 +0000] \"GET / HTTP/1.1\" 200 166 \"-\" \"Mozilla/5.0 (X11; Ubuntu; Linux x86_64; rv:64.0) Gecko/20100101 Firefox/64.0\"\n"
     ]
    }
   ],
   "source": [
    "loop = asyncio.get_event_loop()\n",
    "loop.run_until_complete(init(loop))\n",
    "loop.run_forever()"
   ]
  },
  {
   "cell_type": "markdown",
   "metadata": {},
   "source": [
    "# -Day 3-编写ORM"
   ]
  },
  {
   "cell_type": "markdown",
   "metadata": {},
   "source": [
    "Object Relational Mapping 对象关系映射"
   ]
  },
  {
   "cell_type": "markdown",
   "metadata": {},
   "source": [
    "## 创建连接池"
   ]
  },
  {
   "cell_type": "code",
   "execution_count": 6,
   "metadata": {
    "collapsed": false
   },
   "outputs": [],
   "source": [
    "import asyncio, os, json, time\n",
    "\n",
    "@asyncio.coroutine\n",
    "def create_pool(loop, **kw):\n",
    "    logging.info('create database connection pool...')\n",
    "    global __pool\n",
    "    __pool = yield from aiomysql.create_pool(\n",
    "        host=kw.get('host', 'localhost'),\n",
    "        port=kw.get('port', 3306),\n",
    "        user=kw['user'],\n",
    "        password=kw['password'],\n",
    "        db=kw['db'],\n",
    "        charset=kw.get('charset','utf8'),\n",
    "        autocommit=kw.get('autocommit', True),\n",
    "        maxsize=kw.get('maxsize', 10),\n",
    "        minsize=ke.get('minsize', 1),\n",
    "        loop=loop\n",
    "    )"
   ]
  },
  {
   "cell_type": "markdown",
   "metadata": {},
   "source": [
    "## Select\n",
    "要执行SELECT语句，我们用select函数执行，需要传入SQL语句和SQL参数"
   ]
  },
  {
   "cell_type": "code",
   "execution_count": 7,
   "metadata": {
    "collapsed": true
   },
   "outputs": [],
   "source": [
    "@asyncio.coroutine\n",
    "def select(sql, args, size=None):\n",
    "    log(sql, args)\n",
    "    global __pool\n",
    "    with (yield from __pool) as conn:\n",
    "        cur = yield from conn.cursor(aiomysql.DictCursor)\n",
    "        #将SQL语句的占位符'?'替换为MySql的占位符'%s'\n",
    "        yield from cur.execute(sql.replace('?', '%s'), args or ())\n",
    "        if size:\n",
    "            #通过fetchmany()获取最多指定数量的记录\n",
    "            rs = yield from cur.fetchmany(size)\n",
    "        else:\n",
    "            #否则，通过fetall()获取所有记录\n",
    "            rs = yield from cur.fetchall()\n",
    "        yield from cur.close()\n",
    "        logging.info('rows returned: %s' % len(rs))\n",
    "        return rs"
   ]
  },
  {
   "cell_type": "markdown",
   "metadata": {},
   "source": [
    "## Insert, Update, Delete\n",
    "要执行INSERT、UPDATE、DELETE语句，可以定义一个通用的execute()函数，因为这3种SQL的执行都需要相同的参数，以及返回一个整数表示影响的行数"
   ]
  },
  {
   "cell_type": "code",
   "execution_count": 10,
   "metadata": {
    "collapsed": true
   },
   "outputs": [],
   "source": [
    "@asyncio.coroutine\n",
    "def execute(sql, args):\n",
    "    log(sql)\n",
    "    with (yield from __pool) as conn:\n",
    "        try:\n",
    "            cur = yield from conn.cursor()\n",
    "            yield from cur.execute(sql.replace('?', '%s'), args)\n",
    "            affected = cur.rowcount\n",
    "            yield from cur.close()\n",
    "        except BaseException as e:\n",
    "            raise\n",
    "        return affected"
   ]
  },
  {
   "cell_type": "markdown",
   "metadata": {},
   "source": [
    "## ORM"
   ]
  },
  {
   "cell_type": "code",
   "execution_count": 13,
   "metadata": {
    "collapsed": false
   },
   "outputs": [
    {
     "name": "stderr",
     "output_type": "stream",
     "text": [
      "INFO:root:found model: User (table: users)\n",
      "INFO:root:  found mapping: id ==> <IntegerField, bigint:None>\n",
      "INFO:root:  found mapping: name ==> <StringField, varchar(100):None>\n"
     ]
    }
   ],
   "source": [
    "from www.orm import Model, StringField, IntegerField\n",
    "\n",
    "class User(Model):\n",
    "    __table__ = 'users'\n",
    "    \n",
    "    id = IntegerField(primary_key=True)\n",
    "    name = StringField()"
   ]
  },
  {
   "cell_type": "code",
   "execution_count": 14,
   "metadata": {
    "collapsed": false
   },
   "outputs": [
    {
     "ename": "AttributeError",
     "evalue": "'Model' object has no attribute 'insert'",
     "output_type": "error",
     "traceback": [
      "\u001b[0;31m---------------------------------------------------------------------------\u001b[0m",
      "\u001b[0;31mKeyError\u001b[0m                                  Traceback (most recent call last)",
      "\u001b[0;32m/mnt/yuan/PythonExercise/awesome-python3-webapp/www/orm.py\u001b[0m in \u001b[0;36m__getattr__\u001b[0;34m(self, key)\u001b[0m\n\u001b[1;32m    143\u001b[0m         \u001b[0;32mtry\u001b[0m\u001b[0;34m:\u001b[0m\u001b[0;34m\u001b[0m\u001b[0m\n\u001b[0;32m--> 144\u001b[0;31m             \u001b[0;32mreturn\u001b[0m \u001b[0mself\u001b[0m\u001b[0;34m[\u001b[0m\u001b[0mkey\u001b[0m\u001b[0;34m]\u001b[0m\u001b[0;34m\u001b[0m\u001b[0m\n\u001b[0m\u001b[1;32m    145\u001b[0m         \u001b[0;32mexcept\u001b[0m \u001b[0mKeyError\u001b[0m\u001b[0;34m:\u001b[0m\u001b[0;34m\u001b[0m\u001b[0m\n",
      "\u001b[0;31mKeyError\u001b[0m: 'insert'",
      "\nDuring handling of the above exception, another exception occurred:\n",
      "\u001b[0;31mAttributeError\u001b[0m                            Traceback (most recent call last)",
      "\u001b[0;32m<ipython-input-14-e96c05622dc0>\u001b[0m in \u001b[0;36m<module>\u001b[0;34m\u001b[0m\n\u001b[1;32m      2\u001b[0m \u001b[0muser\u001b[0m \u001b[0;34m=\u001b[0m \u001b[0mUser\u001b[0m\u001b[0;34m(\u001b[0m\u001b[0mid\u001b[0m\u001b[0;34m=\u001b[0m\u001b[0;36m123\u001b[0m\u001b[0;34m,\u001b[0m \u001b[0mname\u001b[0m\u001b[0;34m=\u001b[0m\u001b[0;34m'Yuan'\u001b[0m\u001b[0;34m)\u001b[0m\u001b[0;34m\u001b[0m\u001b[0m\n\u001b[1;32m      3\u001b[0m \u001b[0;31m# 存入数据库\u001b[0m\u001b[0;34m\u001b[0m\u001b[0;34m\u001b[0m\u001b[0m\n\u001b[0;32m----> 4\u001b[0;31m \u001b[0muser\u001b[0m\u001b[0;34m.\u001b[0m\u001b[0minsert\u001b[0m\u001b[0;34m(\u001b[0m\u001b[0;34m)\u001b[0m\u001b[0;34m\u001b[0m\u001b[0m\n\u001b[0m\u001b[1;32m      5\u001b[0m \u001b[0;31m#查询所有User对象:\\\u001b[0m\u001b[0;34m\u001b[0m\u001b[0;34m\u001b[0m\u001b[0m\n\u001b[1;32m      6\u001b[0m \u001b[0musers\u001b[0m \u001b[0;34m=\u001b[0m \u001b[0mUser\u001b[0m\u001b[0;34m.\u001b[0m\u001b[0mfindAll\u001b[0m\u001b[0;34m(\u001b[0m\u001b[0;34m)\u001b[0m\u001b[0;34m\u001b[0m\u001b[0m\n",
      "\u001b[0;32m/mnt/yuan/PythonExercise/awesome-python3-webapp/www/orm.py\u001b[0m in \u001b[0;36m__getattr__\u001b[0;34m(self, key)\u001b[0m\n\u001b[1;32m    144\u001b[0m             \u001b[0;32mreturn\u001b[0m \u001b[0mself\u001b[0m\u001b[0;34m[\u001b[0m\u001b[0mkey\u001b[0m\u001b[0;34m]\u001b[0m\u001b[0;34m\u001b[0m\u001b[0m\n\u001b[1;32m    145\u001b[0m         \u001b[0;32mexcept\u001b[0m \u001b[0mKeyError\u001b[0m\u001b[0;34m:\u001b[0m\u001b[0;34m\u001b[0m\u001b[0m\n\u001b[0;32m--> 146\u001b[0;31m             \u001b[0;32mraise\u001b[0m \u001b[0mAttributeError\u001b[0m\u001b[0;34m(\u001b[0m\u001b[0;34mr\"'Model' object has no attribute '%s'\"\u001b[0m \u001b[0;34m%\u001b[0m \u001b[0mkey\u001b[0m\u001b[0;34m)\u001b[0m\u001b[0;34m\u001b[0m\u001b[0m\n\u001b[0m\u001b[1;32m    147\u001b[0m \u001b[0;34m\u001b[0m\u001b[0m\n\u001b[1;32m    148\u001b[0m     \u001b[0;32mdef\u001b[0m \u001b[0m__setattr__\u001b[0m\u001b[0;34m(\u001b[0m\u001b[0mself\u001b[0m\u001b[0;34m,\u001b[0m \u001b[0mkey\u001b[0m\u001b[0;34m,\u001b[0m \u001b[0mvalue\u001b[0m\u001b[0;34m)\u001b[0m\u001b[0;34m:\u001b[0m\u001b[0;34m\u001b[0m\u001b[0m\n",
      "\u001b[0;31mAttributeError\u001b[0m: 'Model' object has no attribute 'insert'"
     ]
    }
   ],
   "source": [
    "# 创建实例:\n",
    "user = User(id=123, name='Yuan')\n",
    "# 存入数据库\n",
    "user.insert()\n",
    "#查询所有User对象:\\\n",
    "users = User.findAll()"
   ]
  },
  {
   "cell_type": "code",
   "execution_count": null,
   "metadata": {
    "collapsed": true
   },
   "outputs": [],
   "source": [
    "user."
   ]
  }
 ],
 "metadata": {
  "kernelspec": {
   "display_name": "Python 3",
   "language": "python",
   "name": "python3"
  },
  "language_info": {
   "codemirror_mode": {
    "name": "ipython",
    "version": 3
   },
   "file_extension": ".py",
   "mimetype": "text/x-python",
   "name": "python",
   "nbconvert_exporter": "python",
   "pygments_lexer": "ipython3",
   "version": "3.6.2"
  },
  "toc": {
   "base_numbering": 1,
   "nav_menu": {},
   "number_sections": true,
   "sideBar": true,
   "skip_h1_title": false,
   "title_cell": "Table of Contents",
   "title_sidebar": "Contents",
   "toc_cell": false,
   "toc_position": {},
   "toc_section_display": true,
   "toc_window_display": true
  }
 },
 "nbformat": 4,
 "nbformat_minor": 2
}
